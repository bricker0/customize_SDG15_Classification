{
 "cells": [
  {
   "cell_type": "code",
   "execution_count": 13,
   "metadata": {},
   "outputs": [
    {
     "name": "stdout",
     "output_type": "stream",
     "text": [
      "Deleting projects/aruba-tdf/assets/3-subClasses/Build_environment/1985\n",
      "Deleting projects/aruba-tdf/assets/3-subClasses/Build_environment/1986\n",
      "Deleting projects/aruba-tdf/assets/3-subClasses/Build_environment/1990\n",
      "Deleting projects/aruba-tdf/assets/3-subClasses/Build_environment/1991\n",
      "Deleting projects/aruba-tdf/assets/3-subClasses/Build_environment/1993\n",
      "Deleting projects/aruba-tdf/assets/3-subClasses/Build_environment/1995\n",
      "Deleting projects/aruba-tdf/assets/3-subClasses/Build_environment/1996\n",
      "Deleting projects/aruba-tdf/assets/3-subClasses/Build_environment/1997\n",
      "Deleting projects/aruba-tdf/assets/3-subClasses/Build_environment/1998\n",
      "Deleting projects/aruba-tdf/assets/3-subClasses/Build_environment/1999\n",
      "Deleting projects/aruba-tdf/assets/3-subClasses/Build_environment/2000\n",
      "Deleting projects/aruba-tdf/assets/3-subClasses/Build_environment/2001\n",
      "Deleting projects/aruba-tdf/assets/3-subClasses/Build_environment/2002\n",
      "Deleting projects/aruba-tdf/assets/3-subClasses/Build_environment/2003\n",
      "Deleting projects/aruba-tdf/assets/3-subClasses/Build_environment/2005\n",
      "Deleting projects/aruba-tdf/assets/3-subClasses/Build_environment/2006\n",
      "Deleting projects/aruba-tdf/assets/3-subClasses/Build_environment/2007\n",
      "Deleting projects/aruba-tdf/assets/3-subClasses/Build_environment/2008\n",
      "Deleting projects/aruba-tdf/assets/3-subClasses/Build_environment/2009\n",
      "Deleting projects/aruba-tdf/assets/3-subClasses/Build_environment/2010\n",
      "Deleting projects/aruba-tdf/assets/3-subClasses/Build_environment/2011\n",
      "Deleting projects/aruba-tdf/assets/3-subClasses/Build_environment/2012\n",
      "Deleting projects/aruba-tdf/assets/3-subClasses/Build_environment/2013\n",
      "Deleting projects/aruba-tdf/assets/3-subClasses/Build_environment/2014\n",
      "Deleting projects/aruba-tdf/assets/3-subClasses/Build_environment/2015\n",
      "Deleting projects/aruba-tdf/assets/3-subClasses/Build_environment/2016\n",
      "Deleting projects/aruba-tdf/assets/3-subClasses/Build_environment/2017\n",
      "Deleting projects/aruba-tdf/assets/3-subClasses/Build_environment/2018\n",
      "Deleting projects/aruba-tdf/assets/3-subClasses/Build_environment/2019\n",
      "Deleting projects/aruba-tdf/assets/3-subClasses/Build_environment/2020\n",
      "Deleting projects/aruba-tdf/assets/3-subClasses/Build_environment/2021\n",
      "Deleting projects/aruba-tdf/assets/3-subClasses/Build_environment/2022\n",
      "Deleting projects/aruba-tdf/assets/3-subClasses/Build_environment/2023\n",
      "Deleting projects/aruba-tdf/assets/3-subClasses/Build_environment/2024\n"
     ]
    }
   ],
   "source": [
    "# remove all assets from folder\n",
    "import ee\n",
    "ee.Initialize()\n",
    "\n",
    "# Step 2: List all assets in the folder\n",
    "# folder = '1-images'\n",
    "# folder = '2-mainClasses'\n",
    "folder = '3-subClasses'\n",
    "\n",
    "subFolders = ['Herbaceous_wetland', 'Tree_cover', 'Sparse', 'Build_environment']\n",
    "\n",
    "folder_path = f'projects/aruba-tdf/assets/{folder}/{subFolders[3]}'\n",
    "# folder_path = f'projects/aruba-tdf/assets/{folder}'\n",
    "asset_list = ee.data.listAssets({'parent': folder_path})\n",
    "assets = [asset['id'] for asset in asset_list['assets']]\n",
    "\n",
    "# Step 3: Delete each asset\n",
    "for asset in assets:\n",
    "    print(f'Deleting {asset}')\n",
    "    ee.data.deleteAsset(asset)\n",
    "\n"
   ]
  },
  {
   "cell_type": "code",
   "execution_count": 8,
   "metadata": {},
   "outputs": [],
   "source": [
    "# Below link shows how to batch start tasks in GEE js terminal\n",
    "# https://benny.istan.to/blog/20220319-batch-task-execution-in-google-earth-engine-code-editor\n"
   ]
  }
 ],
 "metadata": {
  "kernelspec": {
   "display_name": ".venv",
   "language": "python",
   "name": "python3"
  },
  "language_info": {
   "codemirror_mode": {
    "name": "ipython",
    "version": 3
   },
   "file_extension": ".py",
   "mimetype": "text/x-python",
   "name": "python",
   "nbconvert_exporter": "python",
   "pygments_lexer": "ipython3",
   "version": "3.11.3"
  }
 },
 "nbformat": 4,
 "nbformat_minor": 2
}
