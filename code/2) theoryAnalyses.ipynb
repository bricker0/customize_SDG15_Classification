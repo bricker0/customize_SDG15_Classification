{
 "cells": [
  {
   "cell_type": "code",
   "execution_count": null,
   "metadata": {},
   "outputs": [],
   "source": [
    "# Countries for which SDG 15.1.1 & SDG 15.3.1 are available\n",
    "import pandas as pd\n",
    "sdgData = pd.read_excel('./input/data.xlsx', sheet_name='Goal15')\n",
    "\n",
    "sdgData = sdgData[sdgData['Nature'] != 'N']\n",
    "sdgData1511 = sdgData[sdgData['Indicator'] == '15.1.1'].groupby('GeoAreaName').tail(1)\n",
    "sdgData1531 = sdgData[sdgData['Indicator'] == '15.3.1'].groupby('GeoAreaName').tail(1)\n",
    "\n",
    "print('ammount of countries for which SDG 15.1.1 is available', sdgData1511.shape[0])\n",
    "print('ammount of countries for which SDG 15.3.1 is available', sdgData1531.shape[0])\n",
    "\n",
    "sdgData1511Country = sdgData1511[sdgData1511['Nature'] == 'C']\n",
    "print('ammount of countries for which SDG 15.1.1 was provided domesticly', sdgData1511Country.shape[0])\n",
    "\n",
    "sdgData1531Country = sdgData1531[sdgData1531['Nature'] == 'C']\n",
    "print('ammount of countries for which SDG 15.3.1 was provided domesticly', sdgData1531Country.shape[0])\n",
    "\n",
    "sdgData1531Country"
   ]
  }
 ],
 "metadata": {
  "language_info": {
   "name": "python"
  }
 },
 "nbformat": 4,
 "nbformat_minor": 2
}
